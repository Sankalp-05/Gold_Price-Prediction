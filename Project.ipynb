{
 "cells": [
  {
   "cell_type": "code",
   "execution_count": 2,
   "id": "6100b007",
   "metadata": {},
   "outputs": [],
   "source": [
    "import numpy as np\n",
    "import pandas as pd\n",
    "import matplotlib.pyplot as plt\n",
    "import seaborn as sns\n",
    "from sklearn.model_selection import train_test_split\n",
    "from sklearn.ensemble import RandomForestRegressor\n",
    "from sklearn import metrics"
   ]
  },
  {
   "cell_type": "code",
   "execution_count": 3,
   "id": "c60e51af",
   "metadata": {},
   "outputs": [],
   "source": [
    "gold_data=pd.read_csv('gold_price_data.csv')"
   ]
  },
  {
   "cell_type": "code",
   "execution_count": 4,
   "id": "55dfc5c3",
   "metadata": {},
   "outputs": [
    {
     "data": {
      "text/html": [
       "<div>\n",
       "<style scoped>\n",
       "    .dataframe tbody tr th:only-of-type {\n",
       "        vertical-align: middle;\n",
       "    }\n",
       "\n",
       "    .dataframe tbody tr th {\n",
       "        vertical-align: top;\n",
       "    }\n",
       "\n",
       "    .dataframe thead th {\n",
       "        text-align: right;\n",
       "    }\n",
       "</style>\n",
       "<table border=\"1\" class=\"dataframe\">\n",
       "  <thead>\n",
       "    <tr style=\"text-align: right;\">\n",
       "      <th></th>\n",
       "      <th>Date</th>\n",
       "      <th>SPX</th>\n",
       "      <th>GLD</th>\n",
       "      <th>USO</th>\n",
       "      <th>SLV</th>\n",
       "      <th>EUR/USD</th>\n",
       "    </tr>\n",
       "  </thead>\n",
       "  <tbody>\n",
       "    <tr>\n",
       "      <th>0</th>\n",
       "      <td>1/2/2008</td>\n",
       "      <td>1447.160034</td>\n",
       "      <td>84.860001</td>\n",
       "      <td>78.470001</td>\n",
       "      <td>15.180</td>\n",
       "      <td>1.471692</td>\n",
       "    </tr>\n",
       "    <tr>\n",
       "      <th>1</th>\n",
       "      <td>1/3/2008</td>\n",
       "      <td>1447.160034</td>\n",
       "      <td>85.570000</td>\n",
       "      <td>78.370003</td>\n",
       "      <td>15.285</td>\n",
       "      <td>1.474491</td>\n",
       "    </tr>\n",
       "    <tr>\n",
       "      <th>2</th>\n",
       "      <td>1/4/2008</td>\n",
       "      <td>1411.630005</td>\n",
       "      <td>85.129997</td>\n",
       "      <td>77.309998</td>\n",
       "      <td>15.167</td>\n",
       "      <td>1.475492</td>\n",
       "    </tr>\n",
       "    <tr>\n",
       "      <th>3</th>\n",
       "      <td>1/7/2008</td>\n",
       "      <td>1416.180054</td>\n",
       "      <td>84.769997</td>\n",
       "      <td>75.500000</td>\n",
       "      <td>15.053</td>\n",
       "      <td>1.468299</td>\n",
       "    </tr>\n",
       "    <tr>\n",
       "      <th>4</th>\n",
       "      <td>1/8/2008</td>\n",
       "      <td>1390.189941</td>\n",
       "      <td>86.779999</td>\n",
       "      <td>76.059998</td>\n",
       "      <td>15.590</td>\n",
       "      <td>1.557099</td>\n",
       "    </tr>\n",
       "  </tbody>\n",
       "</table>\n",
       "</div>"
      ],
      "text/plain": [
       "       Date          SPX        GLD        USO     SLV   EUR/USD\n",
       "0  1/2/2008  1447.160034  84.860001  78.470001  15.180  1.471692\n",
       "1  1/3/2008  1447.160034  85.570000  78.370003  15.285  1.474491\n",
       "2  1/4/2008  1411.630005  85.129997  77.309998  15.167  1.475492\n",
       "3  1/7/2008  1416.180054  84.769997  75.500000  15.053  1.468299\n",
       "4  1/8/2008  1390.189941  86.779999  76.059998  15.590  1.557099"
      ]
     },
     "execution_count": 4,
     "metadata": {},
     "output_type": "execute_result"
    }
   ],
   "source": [
    "gold_data.head()"
   ]
  },
  {
   "cell_type": "code",
   "execution_count": 5,
   "id": "491361f8",
   "metadata": {},
   "outputs": [
    {
     "data": {
      "text/html": [
       "<div>\n",
       "<style scoped>\n",
       "    .dataframe tbody tr th:only-of-type {\n",
       "        vertical-align: middle;\n",
       "    }\n",
       "\n",
       "    .dataframe tbody tr th {\n",
       "        vertical-align: top;\n",
       "    }\n",
       "\n",
       "    .dataframe thead th {\n",
       "        text-align: right;\n",
       "    }\n",
       "</style>\n",
       "<table border=\"1\" class=\"dataframe\">\n",
       "  <thead>\n",
       "    <tr style=\"text-align: right;\">\n",
       "      <th></th>\n",
       "      <th>Date</th>\n",
       "      <th>SPX</th>\n",
       "      <th>GLD</th>\n",
       "      <th>USO</th>\n",
       "      <th>SLV</th>\n",
       "      <th>EUR/USD</th>\n",
       "    </tr>\n",
       "  </thead>\n",
       "  <tbody>\n",
       "    <tr>\n",
       "      <th>2285</th>\n",
       "      <td>5/8/2018</td>\n",
       "      <td>2671.919922</td>\n",
       "      <td>124.589996</td>\n",
       "      <td>14.0600</td>\n",
       "      <td>15.5100</td>\n",
       "      <td>1.186789</td>\n",
       "    </tr>\n",
       "    <tr>\n",
       "      <th>2286</th>\n",
       "      <td>5/9/2018</td>\n",
       "      <td>2697.790039</td>\n",
       "      <td>124.330002</td>\n",
       "      <td>14.3700</td>\n",
       "      <td>15.5300</td>\n",
       "      <td>1.184722</td>\n",
       "    </tr>\n",
       "    <tr>\n",
       "      <th>2287</th>\n",
       "      <td>5/10/2018</td>\n",
       "      <td>2723.070068</td>\n",
       "      <td>125.180000</td>\n",
       "      <td>14.4100</td>\n",
       "      <td>15.7400</td>\n",
       "      <td>1.191753</td>\n",
       "    </tr>\n",
       "    <tr>\n",
       "      <th>2288</th>\n",
       "      <td>5/14/2018</td>\n",
       "      <td>2730.129883</td>\n",
       "      <td>124.489998</td>\n",
       "      <td>14.3800</td>\n",
       "      <td>15.5600</td>\n",
       "      <td>1.193118</td>\n",
       "    </tr>\n",
       "    <tr>\n",
       "      <th>2289</th>\n",
       "      <td>5/16/2018</td>\n",
       "      <td>2725.780029</td>\n",
       "      <td>122.543800</td>\n",
       "      <td>14.4058</td>\n",
       "      <td>15.4542</td>\n",
       "      <td>1.182033</td>\n",
       "    </tr>\n",
       "  </tbody>\n",
       "</table>\n",
       "</div>"
      ],
      "text/plain": [
       "           Date          SPX         GLD      USO      SLV   EUR/USD\n",
       "2285   5/8/2018  2671.919922  124.589996  14.0600  15.5100  1.186789\n",
       "2286   5/9/2018  2697.790039  124.330002  14.3700  15.5300  1.184722\n",
       "2287  5/10/2018  2723.070068  125.180000  14.4100  15.7400  1.191753\n",
       "2288  5/14/2018  2730.129883  124.489998  14.3800  15.5600  1.193118\n",
       "2289  5/16/2018  2725.780029  122.543800  14.4058  15.4542  1.182033"
      ]
     },
     "execution_count": 5,
     "metadata": {},
     "output_type": "execute_result"
    }
   ],
   "source": [
    "gold_data.tail()"
   ]
  },
  {
   "cell_type": "code",
   "execution_count": 6,
   "id": "e553bafb",
   "metadata": {},
   "outputs": [
    {
     "data": {
      "text/plain": [
       "(2290, 6)"
      ]
     },
     "execution_count": 6,
     "metadata": {},
     "output_type": "execute_result"
    }
   ],
   "source": [
    "gold_data.shape"
   ]
  },
  {
   "cell_type": "code",
   "execution_count": 7,
   "id": "11640d15",
   "metadata": {},
   "outputs": [
    {
     "name": "stdout",
     "output_type": "stream",
     "text": [
      "<class 'pandas.core.frame.DataFrame'>\n",
      "RangeIndex: 2290 entries, 0 to 2289\n",
      "Data columns (total 6 columns):\n",
      " #   Column   Non-Null Count  Dtype  \n",
      "---  ------   --------------  -----  \n",
      " 0   Date     2290 non-null   object \n",
      " 1   SPX      2290 non-null   float64\n",
      " 2   GLD      2290 non-null   float64\n",
      " 3   USO      2290 non-null   float64\n",
      " 4   SLV      2290 non-null   float64\n",
      " 5   EUR/USD  2290 non-null   float64\n",
      "dtypes: float64(5), object(1)\n",
      "memory usage: 107.5+ KB\n"
     ]
    }
   ],
   "source": [
    "gold_data.info()"
   ]
  },
  {
   "cell_type": "code",
   "execution_count": 8,
   "id": "0bbe0031",
   "metadata": {},
   "outputs": [
    {
     "data": {
      "text/plain": [
       "Date       0\n",
       "SPX        0\n",
       "GLD        0\n",
       "USO        0\n",
       "SLV        0\n",
       "EUR/USD    0\n",
       "dtype: int64"
      ]
     },
     "execution_count": 8,
     "metadata": {},
     "output_type": "execute_result"
    }
   ],
   "source": [
    "gold_data.isnull().sum()"
   ]
  },
  {
   "cell_type": "code",
   "execution_count": 9,
   "id": "2f78bb65",
   "metadata": {},
   "outputs": [
    {
     "data": {
      "text/html": [
       "<div>\n",
       "<style scoped>\n",
       "    .dataframe tbody tr th:only-of-type {\n",
       "        vertical-align: middle;\n",
       "    }\n",
       "\n",
       "    .dataframe tbody tr th {\n",
       "        vertical-align: top;\n",
       "    }\n",
       "\n",
       "    .dataframe thead th {\n",
       "        text-align: right;\n",
       "    }\n",
       "</style>\n",
       "<table border=\"1\" class=\"dataframe\">\n",
       "  <thead>\n",
       "    <tr style=\"text-align: right;\">\n",
       "      <th></th>\n",
       "      <th>SPX</th>\n",
       "      <th>GLD</th>\n",
       "      <th>USO</th>\n",
       "      <th>SLV</th>\n",
       "      <th>EUR/USD</th>\n",
       "    </tr>\n",
       "  </thead>\n",
       "  <tbody>\n",
       "    <tr>\n",
       "      <th>count</th>\n",
       "      <td>2290.000000</td>\n",
       "      <td>2290.000000</td>\n",
       "      <td>2290.000000</td>\n",
       "      <td>2290.000000</td>\n",
       "      <td>2290.000000</td>\n",
       "    </tr>\n",
       "    <tr>\n",
       "      <th>mean</th>\n",
       "      <td>1654.315776</td>\n",
       "      <td>122.732875</td>\n",
       "      <td>31.842221</td>\n",
       "      <td>20.084997</td>\n",
       "      <td>1.283653</td>\n",
       "    </tr>\n",
       "    <tr>\n",
       "      <th>std</th>\n",
       "      <td>519.111540</td>\n",
       "      <td>23.283346</td>\n",
       "      <td>19.523517</td>\n",
       "      <td>7.092566</td>\n",
       "      <td>0.131547</td>\n",
       "    </tr>\n",
       "    <tr>\n",
       "      <th>min</th>\n",
       "      <td>676.530029</td>\n",
       "      <td>70.000000</td>\n",
       "      <td>7.960000</td>\n",
       "      <td>8.850000</td>\n",
       "      <td>1.039047</td>\n",
       "    </tr>\n",
       "    <tr>\n",
       "      <th>25%</th>\n",
       "      <td>1239.874969</td>\n",
       "      <td>109.725000</td>\n",
       "      <td>14.380000</td>\n",
       "      <td>15.570000</td>\n",
       "      <td>1.171313</td>\n",
       "    </tr>\n",
       "    <tr>\n",
       "      <th>50%</th>\n",
       "      <td>1551.434998</td>\n",
       "      <td>120.580002</td>\n",
       "      <td>33.869999</td>\n",
       "      <td>17.268500</td>\n",
       "      <td>1.303297</td>\n",
       "    </tr>\n",
       "    <tr>\n",
       "      <th>75%</th>\n",
       "      <td>2073.010070</td>\n",
       "      <td>132.840004</td>\n",
       "      <td>37.827501</td>\n",
       "      <td>22.882500</td>\n",
       "      <td>1.369971</td>\n",
       "    </tr>\n",
       "    <tr>\n",
       "      <th>max</th>\n",
       "      <td>2872.870117</td>\n",
       "      <td>184.589996</td>\n",
       "      <td>117.480003</td>\n",
       "      <td>47.259998</td>\n",
       "      <td>1.598798</td>\n",
       "    </tr>\n",
       "  </tbody>\n",
       "</table>\n",
       "</div>"
      ],
      "text/plain": [
       "               SPX          GLD          USO          SLV      EUR/USD\n",
       "count  2290.000000  2290.000000  2290.000000  2290.000000  2290.000000\n",
       "mean   1654.315776   122.732875    31.842221    20.084997     1.283653\n",
       "std     519.111540    23.283346    19.523517     7.092566     0.131547\n",
       "min     676.530029    70.000000     7.960000     8.850000     1.039047\n",
       "25%    1239.874969   109.725000    14.380000    15.570000     1.171313\n",
       "50%    1551.434998   120.580002    33.869999    17.268500     1.303297\n",
       "75%    2073.010070   132.840004    37.827501    22.882500     1.369971\n",
       "max    2872.870117   184.589996   117.480003    47.259998     1.598798"
      ]
     },
     "execution_count": 9,
     "metadata": {},
     "output_type": "execute_result"
    }
   ],
   "source": [
    "## getting the statistical information about data\n",
    "gold_data.describe()"
   ]
  },
  {
   "cell_type": "raw",
   "id": "dc6212a5",
   "metadata": {},
   "source": [
    "Correlation:\n",
    "    1.Positive Correlation.\n",
    "    2.Negative Correlation."
   ]
  },
  {
   "cell_type": "code",
   "execution_count": 10,
   "id": "731e9e80",
   "metadata": {},
   "outputs": [],
   "source": [
    "correlation= gold_data.corr()"
   ]
  },
  {
   "cell_type": "code",
   "execution_count": 11,
   "id": "79cba4e0",
   "metadata": {},
   "outputs": [
    {
     "data": {
      "text/plain": [
       "<AxesSubplot:>"
      ]
     },
     "execution_count": 11,
     "metadata": {},
     "output_type": "execute_result"
    },
    {
     "data": {
      "image/png": "[encoded data removed]",
      "text/plain": [
       "<Figure size 576x576 with 2 Axes>"
      ]
     },
     "metadata": {
      "needs_background": "light"
     },
     "output_type": "display_data"
    }
   ],
   "source": [
    "## constructing a heatmap to understand the correlation\n",
    "plt.figure(figsize=(8,8))\n",
    "sns.heatmap(correlation, cbar=True, square=True,fmt='.1f',annot=True,annot_kws={'size':8})"
   ]
  },
  {
   "cell_type": "code",
   "execution_count": 12,
   "id": "55d8ac6a",
   "metadata": {},
   "outputs": [
    {
     "name": "stdout",
     "output_type": "stream",
     "text": [
      "SPX        0.049345\n",
      "GLD        1.000000\n",
      "USO       -0.186360\n",
      "SLV        0.866632\n",
      "EUR/USD   -0.024375\n",
      "Name: GLD, dtype: float64\n"
     ]
    }
   ],
   "source": [
    "#correlation values of GLD\n",
    "print(correlation['GLD'])"
   ]
  },
  {
   "cell_type": "code",
   "execution_count": 13,
   "id": "44ceca68",
   "metadata": {},
   "outputs": [
    {
     "name": "stderr",
     "output_type": "stream",
     "text": [
      "C:\\Users\\DELL\\Anaconda3\\lib\\site-packages\\seaborn\\distributions.py:2619: FutureWarning: `distplot` is a deprecated function and will be removed in a future version. Please adapt your code to use either `displot` (a figure-level function with similar flexibility) or `histplot` (an axes-level function for histograms).\n",
      "  warnings.warn(msg, FutureWarning)\n"
     ]
    },
    {
     "data": {
      "text/plain": [
       "<AxesSubplot:xlabel='GLD', ylabel='Density'>"
      ]
     },
     "execution_count": 13,
     "metadata": {},
     "output_type": "execute_result"
    },
    {
     "data": {
      "image/png": "[encoded data removed]",
      "text/plain": [
       "<Figure size 432x288 with 1 Axes>"
      ]
     },
     "metadata": {
      "needs_background": "light"
     },
     "output_type": "display_data"
    }
   ],
   "source": [
    "## checking the distribution of the GLD price\n",
    "sns.distplot(gold_data['GLD'],color='green')"
   ]
  },
  {
   "cell_type": "raw",
   "id": "74e2f2f9",
   "metadata": {},
   "source": [
    "Splitting features and Target "
   ]
  },
  {
   "cell_type": "code",
   "execution_count": 15,
   "id": "63068900",
   "metadata": {},
   "outputs": [],
   "source": [
    "X = gold_data.drop(['Date','GLD'],axis=1)\n",
    "y=gold_data['GLD']\n"
   ]
  },
  {
   "cell_type": "code",
   "execution_count": 19,
   "id": "d926e2f4",
   "metadata": {},
   "outputs": [
    {
     "data": {
      "text/html": [
       "<div>\n",
       "<style scoped>\n",
       "    .dataframe tbody tr th:only-of-type {\n",
       "        vertical-align: middle;\n",
       "    }\n",
       "\n",
       "    .dataframe tbody tr th {\n",
       "        vertical-align: top;\n",
       "    }\n",
       "\n",
       "    .dataframe thead th {\n",
       "        text-align: right;\n",
       "    }\n",
       "</style>\n",
       "<table border=\"1\" class=\"dataframe\">\n",
       "  <thead>\n",
       "    <tr style=\"text-align: right;\">\n",
       "      <th></th>\n",
       "      <th>SPX</th>\n",
       "      <th>USO</th>\n",
       "      <th>SLV</th>\n",
       "      <th>EUR/USD</th>\n",
       "    </tr>\n",
       "  </thead>\n",
       "  <tbody>\n",
       "    <tr>\n",
       "      <th>0</th>\n",
       "      <td>1447.160034</td>\n",
       "      <td>78.470001</td>\n",
       "      <td>15.1800</td>\n",
       "      <td>1.471692</td>\n",
       "    </tr>\n",
       "    <tr>\n",
       "      <th>1</th>\n",
       "      <td>1447.160034</td>\n",
       "      <td>78.370003</td>\n",
       "      <td>15.2850</td>\n",
       "      <td>1.474491</td>\n",
       "    </tr>\n",
       "    <tr>\n",
       "      <th>2</th>\n",
       "      <td>1411.630005</td>\n",
       "      <td>77.309998</td>\n",
       "      <td>15.1670</td>\n",
       "      <td>1.475492</td>\n",
       "    </tr>\n",
       "    <tr>\n",
       "      <th>3</th>\n",
       "      <td>1416.180054</td>\n",
       "      <td>75.500000</td>\n",
       "      <td>15.0530</td>\n",
       "      <td>1.468299</td>\n",
       "    </tr>\n",
       "    <tr>\n",
       "      <th>4</th>\n",
       "      <td>1390.189941</td>\n",
       "      <td>76.059998</td>\n",
       "      <td>15.5900</td>\n",
       "      <td>1.557099</td>\n",
       "    </tr>\n",
       "    <tr>\n",
       "      <th>...</th>\n",
       "      <td>...</td>\n",
       "      <td>...</td>\n",
       "      <td>...</td>\n",
       "      <td>...</td>\n",
       "    </tr>\n",
       "    <tr>\n",
       "      <th>2285</th>\n",
       "      <td>2671.919922</td>\n",
       "      <td>14.060000</td>\n",
       "      <td>15.5100</td>\n",
       "      <td>1.186789</td>\n",
       "    </tr>\n",
       "    <tr>\n",
       "      <th>2286</th>\n",
       "      <td>2697.790039</td>\n",
       "      <td>14.370000</td>\n",
       "      <td>15.5300</td>\n",
       "      <td>1.184722</td>\n",
       "    </tr>\n",
       "    <tr>\n",
       "      <th>2287</th>\n",
       "      <td>2723.070068</td>\n",
       "      <td>14.410000</td>\n",
       "      <td>15.7400</td>\n",
       "      <td>1.191753</td>\n",
       "    </tr>\n",
       "    <tr>\n",
       "      <th>2288</th>\n",
       "      <td>2730.129883</td>\n",
       "      <td>14.380000</td>\n",
       "      <td>15.5600</td>\n",
       "      <td>1.193118</td>\n",
       "    </tr>\n",
       "    <tr>\n",
       "      <th>2289</th>\n",
       "      <td>2725.780029</td>\n",
       "      <td>14.405800</td>\n",
       "      <td>15.4542</td>\n",
       "      <td>1.182033</td>\n",
       "    </tr>\n",
       "  </tbody>\n",
       "</table>\n",
       "<p>2290 rows × 4 columns</p>\n",
       "</div>"
      ],
      "text/plain": [
       "              SPX        USO      SLV   EUR/USD\n",
       "0     1447.160034  78.470001  15.1800  1.471692\n",
       "1     1447.160034  78.370003  15.2850  1.474491\n",
       "2     1411.630005  77.309998  15.1670  1.475492\n",
       "3     1416.180054  75.500000  15.0530  1.468299\n",
       "4     1390.189941  76.059998  15.5900  1.557099\n",
       "...           ...        ...      ...       ...\n",
       "2285  2671.919922  14.060000  15.5100  1.186789\n",
       "2286  2697.790039  14.370000  15.5300  1.184722\n",
       "2287  2723.070068  14.410000  15.7400  1.191753\n",
       "2288  2730.129883  14.380000  15.5600  1.193118\n",
       "2289  2725.780029  14.405800  15.4542  1.182033\n",
       "\n",
       "[2290 rows x 4 columns]"
      ]
     },
     "execution_count": 19,
     "metadata": {},
     "output_type": "execute_result"
    }
   ],
   "source": [
    "X"
   ]
  },
  {
   "cell_type": "markdown",
   "id": "df495ee4",
   "metadata": {},
   "source": [
    "Splitting into Training and Testing Data"
   ]
  },
  {
   "cell_type": "code",
   "execution_count": 22,
   "id": "5ac0c8dc",
   "metadata": {},
   "outputs": [],
   "source": [
    "X_train,X_test,y_train,y_test=train_test_split(X,y,test_size =.2,random_state=2)"
   ]
  },
  {
   "cell_type": "markdown",
   "id": "d0356992",
   "metadata": {},
   "source": [
    "Model Training :Random Forest Regressor"
   ]
  },
  {
   "cell_type": "code",
   "execution_count": 23,
   "id": "ffc6ae8d",
   "metadata": {},
   "outputs": [],
   "source": [
    "regressor= RandomForestRegressor(n_estimators=100)"
   ]
  },
  {
   "cell_type": "code",
   "execution_count": 27,
   "id": "74e3a6a1",
   "metadata": {},
   "outputs": [
    {
     "data": {
      "text/plain": [
       "RandomForestRegressor()"
      ]
     },
     "execution_count": 27,
     "metadata": {},
     "output_type": "execute_result"
    }
   ],
   "source": [
    "## Training the model\n",
    "regressor.fit(X_train,y_train)"
   ]
  },
  {
   "cell_type": "markdown",
   "id": "51255086",
   "metadata": {},
   "source": [
    "Model Evaluation"
   ]
  },
  {
   "cell_type": "code",
   "execution_count": 30,
   "id": "b6fb4619",
   "metadata": {},
   "outputs": [],
   "source": [
    "## prediction on Test Data\n",
    "test_data_prediction= regressor.predict(X_test)"
   ]
  },
  {
   "cell_type": "code",
   "execution_count": 31,
   "id": "7f6ef132",
   "metadata": {},
   "outputs": [
    {
     "data": {
      "text/plain": [
       "array([168.61599918,  82.09619998, 116.51950019, 127.56090066,\n",
       "       120.76700107, 154.83959757, 150.57249844, 126.12010013,\n",
       "       117.55009883, 125.96680067, 116.76140114, 171.83470076,\n",
       "       142.30139906, 167.78889859, 115.16940013, 117.64020019,\n",
       "       137.0962039 , 170.10020069, 159.27870294, 162.42749946,\n",
       "       155.13970024, 124.9168004 , 176.91059977, 156.76930347,\n",
       "       125.23460033,  93.95719967,  77.57890017, 120.7604    ,\n",
       "       119.16619994, 167.55139967,  88.15480064, 125.45989974,\n",
       "        91.02650071, 117.79800004, 121.0615988 , 136.23790103,\n",
       "       115.40070115, 114.94120088, 147.78729963, 106.97580087,\n",
       "       104.1512027 ,  87.20079789, 126.52190087, 117.95779987,\n",
       "       151.779599  , 119.61159992, 108.33850011, 107.83229813,\n",
       "        93.19520037, 127.10879799,  74.71740019, 113.65249945,\n",
       "       121.4051002 , 111.40229904, 118.80009892, 120.96869957,\n",
       "       159.25579951, 167.52520183, 146.91319653,  85.92679882,\n",
       "        94.39790009,  86.85599861,  90.54049981, 118.97540083,\n",
       "       126.4669005 , 127.37989969, 170.41210004, 122.35019929,\n",
       "       117.51109914,  98.51219998, 168.34670047, 143.17789877,\n",
       "       132.18820243, 121.14970213, 120.71929937, 119.72810054,\n",
       "       114.5037014 , 118.16270051, 106.99160083, 127.86300029,\n",
       "       114.10519985, 107.51279994, 116.73030085, 119.6371988 ,\n",
       "        89.07010057,  88.22869851, 146.03600157, 127.13389978,\n",
       "       113.48080006, 110.24759824, 108.09719897,  77.69699923,\n",
       "       169.4728018 , 113.97959883, 121.67519893, 128.3522024 ,\n",
       "       155.00089781,  91.71919933, 136.47110163, 158.80870323,\n",
       "       125.33650039, 125.42370061, 130.64640211, 114.77920107,\n",
       "       119.9238001 ,  92.13880008, 110.02019908, 168.5984995 ,\n",
       "       156.98419954, 114.02779926, 106.56890122,  79.41559962,\n",
       "       113.3181003 , 125.92260074, 107.43939889, 119.1421007 ,\n",
       "       156.0923036 , 159.85069967, 120.15019981, 133.63180337,\n",
       "       101.5293997 , 117.36409796, 119.23220011, 113.08500108,\n",
       "       102.75559919, 160.15979789,  98.65680041, 147.52809836,\n",
       "       125.50430095, 169.73519989, 125.60199871, 127.32399792,\n",
       "       127.4683019 , 113.86189925, 112.59400048, 123.73529876,\n",
       "       102.14939856,  89.45829993, 124.55269963, 101.16809925,\n",
       "       107.15749876, 113.09840093, 117.14450065,  99.17009906,\n",
       "       121.75980047, 163.62889958,  87.28049861, 106.72829953,\n",
       "       117.09100063, 127.73160123, 124.00630083,  80.68399957,\n",
       "       120.47900077, 157.62989824,  87.89869985, 110.27419925,\n",
       "       119.08829929, 172.01879891, 102.99599887, 105.75730048,\n",
       "       122.24280037, 158.10979779,  87.67249826,  93.14730014,\n",
       "       112.93940021, 178.319     , 114.36629983, 119.27939993,\n",
       "        94.78160087, 125.64980033, 166.23480012, 114.77030049,\n",
       "       116.63110137,  88.31719861, 148.84060104, 120.39179952,\n",
       "        89.56309985, 111.85919963, 117.20450016, 118.61440111,\n",
       "        88.16749934,  94.20800017, 116.85040003, 118.63820176,\n",
       "       120.61680072, 126.76669829, 121.90779959, 150.95999936,\n",
       "       165.4628003 , 118.54359971, 120.5267014 , 150.93390051,\n",
       "       118.3062986 , 172.98419945, 105.61529941, 105.02910086,\n",
       "       149.38000107, 113.66720079, 124.7054013 , 147.44150023,\n",
       "       119.69780111, 115.3400006 , 112.72589965, 113.42360181,\n",
       "       142.29770184, 117.92049764, 102.89330023, 115.94730101,\n",
       "       103.51400177,  98.62550011, 117.5326009 ,  90.58350002,\n",
       "        91.43170045, 153.60339954, 102.68559971, 155.10210123,\n",
       "       114.34100132, 138.96170123,  90.03489845, 115.43619951,\n",
       "       114.30769967, 122.9971009 , 121.75089992, 165.25350096,\n",
       "        92.84529924, 135.08730168, 121.39279945, 120.97260055,\n",
       "       104.70190009, 141.59980243, 121.65419958, 116.61390059,\n",
       "       113.44460105, 127.13659759, 122.72059958, 125.8504997 ,\n",
       "       121.2902004 ,  86.83909895, 132.31500141, 144.64440199,\n",
       "        92.94589944, 158.26189978, 158.99720253, 126.39149896,\n",
       "       165.2594991 , 108.88479981, 109.99810107, 103.6442983 ,\n",
       "        94.38820045, 127.81750283, 107.08010045, 161.51469962,\n",
       "       121.82050034, 131.99530025, 130.72650173, 160.92999907,\n",
       "        90.04129849, 176.30340186, 128.04839983, 126.78599878,\n",
       "        86.49299934, 124.5102994 , 150.57799751,  89.74770014,\n",
       "       106.97399967, 109.00250003,  84.14019901, 135.92830025,\n",
       "       155.54840152, 139.22930313,  74.3233002 , 153.32240112,\n",
       "       126.28859965, 126.75889999, 127.56919925, 108.47759949,\n",
       "       156.10869988, 114.55890093, 117.006501  , 125.20629937,\n",
       "       154.07150083, 121.39909994, 156.4362983 ,  92.91810057,\n",
       "       125.4908016 , 125.96960026,  87.9795006 ,  91.96939912,\n",
       "       126.13459941, 128.34420357, 113.09860055, 117.5894974 ,\n",
       "       121.00750029, 127.12599805, 119.57780079, 135.84780046,\n",
       "        94.0529996 , 119.73730027, 113.36880138,  94.34399946,\n",
       "       108.95609978,  87.07099915, 108.41039981,  89.93199969,\n",
       "        92.36800047, 131.76720324, 162.45580025,  89.11570018,\n",
       "       119.62080091, 133.41530154, 123.90020059, 128.16220209,\n",
       "       102.04839829,  88.98589877, 131.80470015, 119.49089984,\n",
       "       108.53800007, 168.80910052, 115.3632002 ,  86.60119885,\n",
       "       118.81470071,  90.92279959, 161.71070033, 116.20110051,\n",
       "       121.40770015, 160.19929865, 120.00249928, 112.88599934,\n",
       "       108.41489889, 126.82149981,  76.15959997, 103.01989988,\n",
       "       127.62280263, 121.75739949,  92.6341997 , 132.04190046,\n",
       "       118.05880145, 115.68189992, 154.53270304, 159.81090091,\n",
       "       110.10819939, 154.40129787, 119.37330104, 160.47360012,\n",
       "       118.6651001 , 156.58429878, 115.09739934, 116.62500021,\n",
       "       151.15109898, 114.61970052, 125.78659863, 165.30429928,\n",
       "       117.90300036, 125.01049941, 153.07380409, 153.55630244,\n",
       "       132.17100035, 114.72350014, 121.10210183, 125.41200074,\n",
       "        89.7420004 , 123.2802999 , 154.81490203, 111.64510039,\n",
       "       106.72749986, 162.02430136, 118.59879982, 165.60889982,\n",
       "       134.40110087, 114.77409949, 152.9614987 , 168.54509963,\n",
       "       115.40929981, 113.93730107, 157.90819856,  85.28319867,\n",
       "       127.18110014, 127.91080039, 128.87689977, 124.32840056,\n",
       "       124.08610088,  90.74650037, 153.58019986,  97.05039981,\n",
       "       137.31599997,  88.99009912, 107.50950002, 115.11270043,\n",
       "       112.74340078, 124.73929923,  91.38709893, 125.42970109,\n",
       "       162.23959868, 120.0743994 , 164.80590145, 126.8000984 ,\n",
       "       112.34770005, 127.70289895,  95.03849922,  90.77809957,\n",
       "       103.18489913, 120.86240009,  83.35009953, 126.32489995,\n",
       "       160.10320491, 117.11190065, 118.23370011, 120.18359999,\n",
       "       122.62219949, 120.15780146, 121.53490009, 118.3279007 ,\n",
       "       107.00159997, 148.08169977, 126.23299815, 115.81940101,\n",
       "        73.75010027, 127.84140104, 153.69110081, 122.68519976,\n",
       "       125.65720009,  88.89460025, 104.07329872, 124.61720006,\n",
       "       120.28500048,  73.41960097, 151.62579988, 121.28570055,\n",
       "       104.61869995,  86.11599765, 115.35179922, 172.14349828,\n",
       "       119.80010053, 159.52369755, 113.17789988, 121.0837002 ,\n",
       "       118.5204012 ,  95.97659983, 119.04310044, 126.00930056,\n",
       "       118.42199964,  96.22970091, 153.87470178, 122.03770068,\n",
       "       147.68990004, 159.44280244, 113.68070046, 122.60759936,\n",
       "       149.81399731, 126.79970034, 165.81440038, 136.04800034,\n",
       "       120.19630019, 167.7625988 , 108.29069929, 121.79799813,\n",
       "       140.15650182, 106.71989888])"
      ]
     },
     "execution_count": 31,
     "metadata": {},
     "output_type": "execute_result"
    }
   ],
   "source": [
    "test_data_prediction"
   ]
  },
  {
   "cell_type": "code",
   "execution_count": 35,
   "id": "f06ca482",
   "metadata": {},
   "outputs": [
    {
     "name": "stdout",
     "output_type": "stream",
     "text": [
      "R squared error : 0.9892904796251859\n"
     ]
    }
   ],
   "source": [
    "## R squared error\n",
    "error_score=metrics.r2_score(y_test,test_data_prediction)\n",
    "print('R squared error :',error_score)"
   ]
  },
  {
   "cell_type": "markdown",
   "id": "cac4caf9",
   "metadata": {},
   "source": [
    "Compare the Actual Values and Predicted VAlues in a plot"
   ]
  },
  {
   "cell_type": "code",
   "execution_count": 38,
   "id": "f296e6a9",
   "metadata": {},
   "outputs": [],
   "source": [
    "y_test=list(y_test)"
   ]
  },
  {
   "cell_type": "code",
   "execution_count": 44,
   "id": "1d959023",
   "metadata": {},
   "outputs": [
    {
     "data": {
      "image/png": "[encoded data removed]",
      "text/plain": [
       "<Figure size 432x288 with 1 Axes>"
      ]
     },
     "metadata": {
      "needs_background": "light"
     },
     "output_type": "display_data"
    }
   ],
   "source": [
    "plt.plot(y_test,color='blue',label='Actual Value')\n",
    "plt.plot(test_data_prediction,color='green',label='Predicted Value')\n",
    "plt.title('Actual Price vs Predicted Price')\n",
    "plt.xlabel('Number of Values')\n",
    "plt.ylabel('GLD Price')\n",
    "plt.legend()\n",
    "plt.show()"
   ]
  },
  {
   "cell_type": "code",
   "execution_count": null,
   "id": "00621b52",
   "metadata": {},
   "outputs": [],
   "source": []
  }
 ],
 "metadata": {
  "kernelspec": {
   "display_name": "Python 3 (ipykernel)",
   "language": "python",
   "name": "python3"
  },
  "language_info": {
   "codemirror_mode": {
    "name": "ipython",
    "version": 3
   },
   "file_extension": ".py",
   "mimetype": "text/x-python",
   "name": "python",
   "nbconvert_exporter": "python",
   "pygments_lexer": "ipython3",
   "version": "3.9.7"
  }
 },
 "nbformat": 4,
 "nbformat_minor": 5
}
